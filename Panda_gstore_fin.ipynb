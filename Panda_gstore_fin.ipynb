{
 "cells": [
  {
   "cell_type": "code",
   "execution_count": 2,
   "id": "779da8ec",
   "metadata": {},
   "outputs": [
    {
     "name": "stdout",
     "output_type": "stream",
     "text": [
      "1. Вывести первые 10 строк датасета\n",
      "2. Вывести случайные 5 строк датасета\n",
      "3. Вывести количество строк и столбцов\n",
      "4. Вывести данные о количестве пропущенных значений\n",
      "5. Отбросить из датафрейма строки с пропущенными значениями и снова вывести для проверки\n",
      "6. Найти самый большой и самый маленький рейтинги, а также среднее значение рейтинга\n",
      "7. Вывести первые 10 приложений с рейтингов не ниже 4.9\n",
      "8. Вывести 5 самых часто скачиваемых приложений\n",
      "9. Отрисовать график, показывающий количество приложений для каждой категории\n",
      "10. Выход\n",
      "Выберите операцию: 1\n"
     ]
    },
    {
     "ename": "UnboundLocalError",
     "evalue": "local variable 'data' referenced before assignment",
     "output_type": "error",
     "traceback": [
      "\u001b[1;31m---------------------------------------------------------------------------\u001b[0m",
      "\u001b[1;31mUnboundLocalError\u001b[0m                         Traceback (most recent call last)",
      "\u001b[1;32m<ipython-input-2-0c2c13519891>\u001b[0m in \u001b[0;36m<module>\u001b[1;34m\u001b[0m\n\u001b[0;32m     65\u001b[0m \u001b[1;33m\u001b[0m\u001b[0m\n\u001b[0;32m     66\u001b[0m \u001b[1;32mif\u001b[0m \u001b[0m__name__\u001b[0m \u001b[1;33m==\u001b[0m \u001b[1;34m\"__main__\"\u001b[0m\u001b[1;33m:\u001b[0m\u001b[1;33m\u001b[0m\u001b[1;33m\u001b[0m\u001b[0m\n\u001b[1;32m---> 67\u001b[1;33m     \u001b[0mmain_menu\u001b[0m\u001b[1;33m(\u001b[0m\u001b[1;33m)\u001b[0m\u001b[1;33m\u001b[0m\u001b[1;33m\u001b[0m\u001b[0m\n\u001b[0m",
      "\u001b[1;32m<ipython-input-2-0c2c13519891>\u001b[0m in \u001b[0;36mmain_menu\u001b[1;34m()\u001b[0m\n\u001b[0;32m     22\u001b[0m \u001b[1;33m\u001b[0m\u001b[0m\n\u001b[0;32m     23\u001b[0m         \u001b[1;32mif\u001b[0m \u001b[0mchoice\u001b[0m \u001b[1;33m==\u001b[0m \u001b[1;34m\"1\"\u001b[0m\u001b[1;33m:\u001b[0m\u001b[1;33m\u001b[0m\u001b[1;33m\u001b[0m\u001b[0m\n\u001b[1;32m---> 24\u001b[1;33m             \u001b[0mprint\u001b[0m\u001b[1;33m(\u001b[0m\u001b[0mdata\u001b[0m\u001b[1;33m.\u001b[0m\u001b[0mhead\u001b[0m\u001b[1;33m(\u001b[0m\u001b[1;36m10\u001b[0m\u001b[1;33m)\u001b[0m\u001b[1;33m)\u001b[0m\u001b[1;33m\u001b[0m\u001b[1;33m\u001b[0m\u001b[0m\n\u001b[0m\u001b[0;32m     25\u001b[0m         \u001b[1;32melif\u001b[0m \u001b[0mchoice\u001b[0m \u001b[1;33m==\u001b[0m \u001b[1;34m\"2\"\u001b[0m\u001b[1;33m:\u001b[0m\u001b[1;33m\u001b[0m\u001b[1;33m\u001b[0m\u001b[0m\n\u001b[0;32m     26\u001b[0m             \u001b[0mprint\u001b[0m\u001b[1;33m(\u001b[0m\u001b[0mdata\u001b[0m\u001b[1;33m.\u001b[0m\u001b[0msample\u001b[0m\u001b[1;33m(\u001b[0m\u001b[1;36m5\u001b[0m\u001b[1;33m)\u001b[0m\u001b[1;33m)\u001b[0m\u001b[1;33m\u001b[0m\u001b[1;33m\u001b[0m\u001b[0m\n",
      "\u001b[1;31mUnboundLocalError\u001b[0m: local variable 'data' referenced before assignment"
     ]
    }
   ],
   "source": [
    "import numpy as np\n",
    "import pandas as pd\n",
    "import matplotlib.pyplot as plt\n",
    "\n",
    "data = pd.read_csv('googleplaystore.csv', delimiter=',', index_col='App')\n",
    "\n",
    "# Основная функция меню\n",
    "def main_menu():\n",
    "    while True:\n",
    "        print(\"1. Вывести первые 10 строк датасета\")\n",
    "        print(\"2. Вывести случайные 5 строк датасета\")\n",
    "        print(\"3. Вывести количество строк и столбцов\")\n",
    "        print(\"4. Вывести данные о количестве пропущенных значений\")\n",
    "        print(\"5. Отбросить из датафрейма строки с пропущенными значениями и снова вывести для проверки\")\n",
    "        print(\"6. Найти самый большой и самый маленький рейтинги, а также среднее значение рейтинга\")\n",
    "        print(\"7. Вывести первые 10 приложений с рейтингов не ниже 4.9\")\n",
    "        print(\"8. Вывести 5 самых часто скачиваемых приложений\")\n",
    "        print(\"9. Отрисовать график, показывающий количество приложений для каждой категории\")\n",
    "        print(\"10. Выход\")\n",
    "        \n",
    "        choice = input(\"Выберите операцию: \")\n",
    "\n",
    "        if choice == \"1\":\n",
    "            print(data.head(10))\n",
    "        elif choice == \"2\":\n",
    "            print(data.sample(5))\n",
    "        elif choice == \"3\":\n",
    "            num_rows = data.shape[0]\n",
    "            num_columns = data.shape[1]\n",
    "            print('Количество строк равно:',num_rows)\n",
    "            print('Количество столбцов равно :',num_columns)\n",
    "        elif choice == \"4\":\n",
    "            data.count().sum()\n",
    "        elif choice == \"5\":\n",
    "            data.dropna()\n",
    "        elif choice == \"6\":\n",
    "            min_rtg = 1\n",
    "            max_rtg = 5\n",
    "            data = data[data['Rating'].between(min_rtg, max_rtg)]\n",
    "            min_rating = data['Rating'].min()\n",
    "            max_rating = data['Rating'].max()\n",
    "            mean_rating = data['Rating'].mean()\n",
    "            print('Самый большой рейтинг приложений равен:',max_rating)\n",
    "            print('Самый маленький рейтинг приложений равен:',min_rating)\n",
    "            print('Средние значение рейтинга приложений равно:',mean_rating)\n",
    "        elif choice == \"7\":\n",
    "            min_rtg = 4.89\n",
    "            max_rtg = 5\n",
    "            data = data[data['Rating'].between(min_rtg, max_rtg)]\n",
    "            str = data[data['Rating']==data['Rating'].min()]\n",
    "            str.head(10)\n",
    "        elif choice == \"8\":\n",
    "            data['Installs'] = data['Installs'].str.replace('Free', '1')\n",
    "            data['Installs'] = data['Installs'].map(lambda x: int(x.replace(',','').replace('+','')) if x==x else 0)\n",
    "            data = data.sort_values('Installs', ascending=False)\n",
    "            data.head(5)\n",
    "        elif choice == \"9\":\n",
    "            cat_totals = data.groupby([\"Category\"])[\"Category\"].count()\n",
    "            #print(cat_totals)\n",
    "            cat_totals.plot(kind='bar', title='Количество приложений для каждой категории', figsize = (30,10), colormap=\"viridis\", rot = 90)\n",
    "        elif choice == \"10\":\n",
    "            break\n",
    "        else:\n",
    "            print(\"Некорректный выбор. Попробуйте снова.\")\n",
    "\n",
    "if __name__ == \"__main__\":\n",
    "    main_menu()"
   ]
  },
  {
   "cell_type": "code",
   "execution_count": null,
   "id": "5c077af8",
   "metadata": {},
   "outputs": [],
   "source": []
  }
 ],
 "metadata": {
  "kernelspec": {
   "display_name": "Python 3",
   "language": "python",
   "name": "python3"
  },
  "language_info": {
   "codemirror_mode": {
    "name": "ipython",
    "version": 3
   },
   "file_extension": ".py",
   "mimetype": "text/x-python",
   "name": "python",
   "nbconvert_exporter": "python",
   "pygments_lexer": "ipython3",
   "version": "3.8.8"
  }
 },
 "nbformat": 4,
 "nbformat_minor": 5
}
